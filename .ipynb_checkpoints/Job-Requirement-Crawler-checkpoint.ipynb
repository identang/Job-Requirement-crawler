{
 "cells": [
  {
   "cell_type": "code",
   "execution_count": 1,
   "id": "57990e53-61f2-46ff-b7e2-b829c77e9b57",
   "metadata": {},
   "outputs": [
    {
     "name": "stdout",
     "output_type": "stream",
     "text": [
      "Requirement already satisfied: requests in /Library/Frameworks/Python.framework/Versions/3.11/lib/python3.11/site-packages (2.31.0)\n",
      "Requirement already satisfied: beautifulsoup4 in /Library/Frameworks/Python.framework/Versions/3.11/lib/python3.11/site-packages (4.12.2)\n",
      "Requirement already satisfied: requests-html in /Library/Frameworks/Python.framework/Versions/3.11/lib/python3.11/site-packages (0.10.0)\n",
      "Requirement already satisfied: selenium in /Library/Frameworks/Python.framework/Versions/3.11/lib/python3.11/site-packages (4.11.2)\n",
      "Requirement already satisfied: charset-normalizer<4,>=2 in /Library/Frameworks/Python.framework/Versions/3.11/lib/python3.11/site-packages (from requests) (3.2.0)\n",
      "Requirement already satisfied: idna<4,>=2.5 in /Library/Frameworks/Python.framework/Versions/3.11/lib/python3.11/site-packages (from requests) (3.4)\n",
      "Requirement already satisfied: urllib3<3,>=1.21.1 in /Library/Frameworks/Python.framework/Versions/3.11/lib/python3.11/site-packages (from requests) (1.26.16)\n",
      "Requirement already satisfied: certifi>=2017.4.17 in /Library/Frameworks/Python.framework/Versions/3.11/lib/python3.11/site-packages (from requests) (2023.7.22)\n",
      "Requirement already satisfied: soupsieve>1.2 in /Library/Frameworks/Python.framework/Versions/3.11/lib/python3.11/site-packages (from beautifulsoup4) (2.4.1)\n",
      "Requirement already satisfied: pyquery in /Library/Frameworks/Python.framework/Versions/3.11/lib/python3.11/site-packages (from requests-html) (2.0.0)\n",
      "Requirement already satisfied: fake-useragent in /Library/Frameworks/Python.framework/Versions/3.11/lib/python3.11/site-packages (from requests-html) (1.2.1)\n",
      "Requirement already satisfied: parse in /Library/Frameworks/Python.framework/Versions/3.11/lib/python3.11/site-packages (from requests-html) (1.19.1)\n",
      "Requirement already satisfied: bs4 in /Library/Frameworks/Python.framework/Versions/3.11/lib/python3.11/site-packages (from requests-html) (0.0.1)\n",
      "Requirement already satisfied: w3lib in /Library/Frameworks/Python.framework/Versions/3.11/lib/python3.11/site-packages (from requests-html) (2.1.2)\n",
      "Requirement already satisfied: pyppeteer>=0.0.14 in /Library/Frameworks/Python.framework/Versions/3.11/lib/python3.11/site-packages (from requests-html) (1.0.2)\n",
      "Requirement already satisfied: trio~=0.17 in /Library/Frameworks/Python.framework/Versions/3.11/lib/python3.11/site-packages (from selenium) (0.22.2)\n",
      "Requirement already satisfied: trio-websocket~=0.9 in /Library/Frameworks/Python.framework/Versions/3.11/lib/python3.11/site-packages (from selenium) (0.10.3)\n",
      "Requirement already satisfied: appdirs<2.0.0,>=1.4.3 in /Library/Frameworks/Python.framework/Versions/3.11/lib/python3.11/site-packages (from pyppeteer>=0.0.14->requests-html) (1.4.4)\n",
      "Requirement already satisfied: importlib-metadata>=1.4 in /Library/Frameworks/Python.framework/Versions/3.11/lib/python3.11/site-packages (from pyppeteer>=0.0.14->requests-html) (6.8.0)\n",
      "Requirement already satisfied: pyee<9.0.0,>=8.1.0 in /Library/Frameworks/Python.framework/Versions/3.11/lib/python3.11/site-packages (from pyppeteer>=0.0.14->requests-html) (8.2.2)\n",
      "Requirement already satisfied: tqdm<5.0.0,>=4.42.1 in /Library/Frameworks/Python.framework/Versions/3.11/lib/python3.11/site-packages (from pyppeteer>=0.0.14->requests-html) (4.66.1)\n",
      "Requirement already satisfied: websockets<11.0,>=10.0 in /Library/Frameworks/Python.framework/Versions/3.11/lib/python3.11/site-packages (from pyppeteer>=0.0.14->requests-html) (10.4)\n",
      "Requirement already satisfied: attrs>=20.1.0 in /Library/Frameworks/Python.framework/Versions/3.11/lib/python3.11/site-packages (from trio~=0.17->selenium) (23.1.0)\n",
      "Requirement already satisfied: sortedcontainers in /Library/Frameworks/Python.framework/Versions/3.11/lib/python3.11/site-packages (from trio~=0.17->selenium) (2.4.0)\n",
      "Requirement already satisfied: outcome in /Library/Frameworks/Python.framework/Versions/3.11/lib/python3.11/site-packages (from trio~=0.17->selenium) (1.2.0)\n",
      "Requirement already satisfied: sniffio in /Library/Frameworks/Python.framework/Versions/3.11/lib/python3.11/site-packages (from trio~=0.17->selenium) (1.3.0)\n",
      "Requirement already satisfied: exceptiongroup in /Library/Frameworks/Python.framework/Versions/3.11/lib/python3.11/site-packages (from trio-websocket~=0.9->selenium) (1.1.3)\n",
      "Requirement already satisfied: wsproto>=0.14 in /Library/Frameworks/Python.framework/Versions/3.11/lib/python3.11/site-packages (from trio-websocket~=0.9->selenium) (1.2.0)\n",
      "Requirement already satisfied: PySocks!=1.5.7,<2.0,>=1.5.6 in /Library/Frameworks/Python.framework/Versions/3.11/lib/python3.11/site-packages (from urllib3<3,>=1.21.1->requests) (1.7.1)\n",
      "Requirement already satisfied: lxml>=2.1 in /Library/Frameworks/Python.framework/Versions/3.11/lib/python3.11/site-packages (from pyquery->requests-html) (4.9.3)\n",
      "Requirement already satisfied: cssselect>=1.2.0 in /Library/Frameworks/Python.framework/Versions/3.11/lib/python3.11/site-packages (from pyquery->requests-html) (1.2.0)\n",
      "Requirement already satisfied: zipp>=0.5 in /Library/Frameworks/Python.framework/Versions/3.11/lib/python3.11/site-packages (from importlib-metadata>=1.4->pyppeteer>=0.0.14->requests-html) (3.16.2)\n",
      "Requirement already satisfied: h11<1,>=0.9.0 in /Library/Frameworks/Python.framework/Versions/3.11/lib/python3.11/site-packages (from wsproto>=0.14->trio-websocket~=0.9->selenium) (0.14.0)\n",
      "Note: you may need to restart the kernel to use updated packages.\n"
     ]
    }
   ],
   "source": [
    "pip install requests beautifulsoup4 requests-html selenium"
   ]
  },
  {
   "cell_type": "code",
   "execution_count": 6,
   "id": "4ea9210c-24bb-4e22-8aa3-feefb8372f32",
   "metadata": {
    "scrolled": true
   },
   "outputs": [
    {
     "name": "stdout",
     "output_type": "stream",
     "text": [
      "['https://www.linkedin.com/jobs/view/junior-web-developer-at-puretalk-3684485141?refId=5fHk8EjHKbRDyA63Vb5GaA%3D%3D&trackingId=UERJFqPFZYqAqQIF42pyPA%3D%3D&position=1&pageNum=0&trk=public_jobs_jserp-result_search-card', 'https://www.linkedin.com/jobs/view/junior-web-developer-remote-wfh-at-get-it-recruit-information-technology-3686383998?refId=5fHk8EjHKbRDyA63Vb5GaA%3D%3D&trackingId=1Kbi1jCtER1ijzVDIVCMhQ%3D%3D&position=2&pageNum=0&trk=public_jobs_jserp-result_search-card', 'https://www.linkedin.com/jobs/view/frontend-web-developer-at-stellar-professionals-3580174233?refId=5fHk8EjHKbRDyA63Vb5GaA%3D%3D&trackingId=eAlLm0kkw%2BbACBoDsVxQYw%3D%3D&position=3&pageNum=0&trk=public_jobs_jserp-result_search-card', 'https://www.linkedin.com/jobs/view/junior-web-developer-at-miranda-creative-inc-3689937817?refId=5fHk8EjHKbRDyA63Vb5GaA%3D%3D&trackingId=xYpBTQoNhVKs8KjjHCsXsg%3D%3D&position=4&pageNum=0&trk=public_jobs_jserp-result_search-card', 'https://www.linkedin.com/jobs/view/junior-web-developer-at-blayzer-digital-3683080326?refId=5fHk8EjHKbRDyA63Vb5GaA%3D%3D&trackingId=VN1IeLbLtgVvdd2%2BQbRsQA%3D%3D&position=5&pageNum=0&trk=public_jobs_jserp-result_search-card', 'https://www.linkedin.com/jobs/view/front-end-web-developer-junior-at-brilliant%C2%AE-3649671673?refId=5fHk8EjHKbRDyA63Vb5GaA%3D%3D&trackingId=Rses6n6RAw%2B3ssREwg0bSA%3D%3D&position=6&pageNum=0&trk=public_jobs_jserp-result_search-card', 'https://www.linkedin.com/jobs/view/junior-web-developer-at-synergy-ecp-3694395872?refId=5fHk8EjHKbRDyA63Vb5GaA%3D%3D&trackingId=T%2Fiv%2Bc1rHDa5g2ixYf%2FmZQ%3D%3D&position=7&pageNum=0&trk=public_jobs_jserp-result_search-card', 'https://www.linkedin.com/jobs/view/junior-web-developer-at-vertexone-3581279535?refId=5fHk8EjHKbRDyA63Vb5GaA%3D%3D&trackingId=vdmpMkrXOApJicg5ynEkag%3D%3D&position=8&pageNum=0&trk=public_jobs_jserp-result_search-card', 'https://www.linkedin.com/jobs/view/frontend-developer-react-js-at-trident-consulting-3672993127?refId=5fHk8EjHKbRDyA63Vb5GaA%3D%3D&trackingId=MT%2BuHrVP6ZV0%2B691VB%2Frew%3D%3D&position=9&pageNum=0&trk=public_jobs_jserp-result_search-card', 'https://www.linkedin.com/jobs/view/junior-full-stack-web-developer-at-pattern-learning-ai-career-tech-recruitment-reimagined%21-3695048280?refId=5fHk8EjHKbRDyA63Vb5GaA%3D%3D&trackingId=AvROlPhh4An225RU7yIJnQ%3D%3D&position=10&pageNum=0&trk=public_jobs_jserp-result_search-card', 'https://www.linkedin.com/jobs/view/junior-web-developer-at-vmd-corp-3670467670?refId=5fHk8EjHKbRDyA63Vb5GaA%3D%3D&trackingId=JS1VoJu3EVCZ9gaZq8DeDw%3D%3D&position=11&pageNum=0&trk=public_jobs_jserp-result_search-card', 'https://www.linkedin.com/jobs/view/frontend-web-developer-at-michael-page-3680879678?refId=5fHk8EjHKbRDyA63Vb5GaA%3D%3D&trackingId=Zx7IutDYMxqdNMZf%2FkIhzQ%3D%3D&position=12&pageNum=0&trk=public_jobs_jserp-result_search-card', 'https://www.linkedin.com/jobs/view/senior-frontend-engineer-at-sincere-corporation-3635512238?refId=5fHk8EjHKbRDyA63Vb5GaA%3D%3D&trackingId=5PxJhWFtgehjcsdIC6hUfA%3D%3D&position=13&pageNum=0&trk=public_jobs_jserp-result_search-card', 'https://www.linkedin.com/jobs/view/frontend-web-developer-contract-to-perm-at-lamark-media-3694025953?refId=5fHk8EjHKbRDyA63Vb5GaA%3D%3D&trackingId=7%2FkfPu3SVx0Z1jf0RH4prw%3D%3D&position=14&pageNum=0&trk=public_jobs_jserp-result_search-card', 'https://www.linkedin.com/jobs/view/junior-frontend-web-developer-at-first-community-credit-union-3582095168?refId=5fHk8EjHKbRDyA63Vb5GaA%3D%3D&trackingId=oZmVEUS6Z69WsSGi5UkS9Q%3D%3D&position=15&pageNum=0&trk=public_jobs_jserp-result_search-card', 'https://www.linkedin.com/jobs/view/front-end-software-engineer-at-just-capital-3674805667?refId=5fHk8EjHKbRDyA63Vb5GaA%3D%3D&trackingId=dJsTyJ9QXd7200MEvoGN2g%3D%3D&position=16&pageNum=0&trk=public_jobs_jserp-result_search-card', 'https://www.linkedin.com/jobs/view/senior-frontend-developer-at-privy-3616130356?refId=5fHk8EjHKbRDyA63Vb5GaA%3D%3D&trackingId=AXQO7erjtmc5bMDt%2B8IGew%3D%3D&position=17&pageNum=0&trk=public_jobs_jserp-result_search-card', 'https://www.linkedin.com/jobs/view/sr-front-end-developer-at-burstiq-3679928451?refId=5fHk8EjHKbRDyA63Vb5GaA%3D%3D&trackingId=QB%2BiHx5E%2BWOvnh58HYHaDA%3D%3D&position=18&pageNum=0&trk=public_jobs_jserp-result_search-card', 'https://www.linkedin.com/jobs/view/sr-front-end-developer-at-burstiq-3679902903?refId=5fHk8EjHKbRDyA63Vb5GaA%3D%3D&trackingId=w%2Fpp42F21J3lCg%2FM4VoAWA%3D%3D&position=19&pageNum=0&trk=public_jobs_jserp-result_search-card', 'https://www.linkedin.com/jobs/view/sr-front-end-developer-at-burstiq-3679793999?refId=5fHk8EjHKbRDyA63Vb5GaA%3D%3D&trackingId=eeqdffmHL1Dvv7qiMbst2A%3D%3D&position=20&pageNum=0&trk=public_jobs_jserp-result_search-card', 'https://www.linkedin.com/jobs/view/software-engineer-ii-frontend-web-developer-at-agility-robotics-3677279575?refId=5fHk8EjHKbRDyA63Vb5GaA%3D%3D&trackingId=Z0S2GO3bQiti2sF1m6ArbA%3D%3D&position=21&pageNum=0&trk=public_jobs_jserp-result_search-card', 'https://www.linkedin.com/jobs/view/web-developer-v-at-winmax-3508095161?refId=5fHk8EjHKbRDyA63Vb5GaA%3D%3D&trackingId=AXnyfF6Ty%2Bo4hxxNO0kRpA%3D%3D&position=22&pageNum=0&trk=public_jobs_jserp-result_search-card', 'https://www.linkedin.com/jobs/view/entry-level-web-designer-developer-hybrid-at-hippo-medical-inc-3691373821?refId=5fHk8EjHKbRDyA63Vb5GaA%3D%3D&trackingId=ciX4nhY7fJSsTYFmpIIDZQ%3D%3D&position=23&pageNum=0&trk=public_jobs_jserp-result_search-card', 'https://www.linkedin.com/jobs/view/frontend-developer-at-roberts-recruiting-llc-3576886171?refId=5fHk8EjHKbRDyA63Vb5GaA%3D%3D&trackingId=yEHV1KTBZY6Mn%2FqVdh01Og%3D%3D&position=24&pageNum=0&trk=public_jobs_jserp-result_search-card', 'https://www.linkedin.com/jobs/view/junior-web-developer-and-support-technician-at-couple-3676190118?refId=5fHk8EjHKbRDyA63Vb5GaA%3D%3D&trackingId=EDVj0SPZ9sSFt9%2FXIfO0vQ%3D%3D&position=25&pageNum=0&trk=public_jobs_jserp-result_search-card']\n"
     ]
    }
   ],
   "source": [
    "from requests_html import HTMLSession\n",
    "from bs4 import BeautifulSoup\n",
    "\n",
    "def parse_elements(url, element):\n",
    "    session = HTMLSession()\n",
    "    r = session.get(url)\n",
    "    elements = r.html.find(element)\n",
    "    return elements\n",
    "\n",
    "url = 'https://www.linkedin.com/jobs/search/?currentJobId=3679095269&keywords=frontend%20web%20developer'\n",
    "\n",
    "link_details = parse_elements(url, 'a')\n",
    "\n",
    "job_list = []\n",
    "\n",
    "for link in link_details:\n",
    "    if 'href' in link.attrs and 'class' in link.attrs:\n",
    "        link_classes = link.attrs['class']\n",
    "        if 'base-card__full-link' in link_classes:\n",
    "            job_url = link.attrs['href']\n",
    "            job_list.append(job_url)\n",
    "\n",
    "\n",
    "print(job_list)"
   ]
  },
  {
   "cell_type": "code",
   "execution_count": 10,
   "id": "2573971e-f3e4-4df9-8c80-5d51bda005aa",
   "metadata": {},
   "outputs": [
    {
     "ename": "SyntaxError",
     "evalue": "'return' outside function (694986136.py, line 14)",
     "output_type": "error",
     "traceback": [
      "\u001b[0;36m  Cell \u001b[0;32mIn[10], line 14\u001b[0;36m\u001b[0m\n\u001b[0;31m    return job_requirements\u001b[0m\n\u001b[0m    ^\u001b[0m\n\u001b[0;31mSyntaxError\u001b[0m\u001b[0;31m:\u001b[0m 'return' outside function\n"
     ]
    }
   ],
   "source": [
    "from selenium import webdriver\n",
    "from selenium.webdriver.common.by import By\n",
    "\n",
    "job_requirements = []\n",
    "\n",
    "for link in job_list:\n",
    "    driver = webdriver.Chrome()  # Use appropriate driver for your browser\n",
    "    driver.get(link)\n",
    "    elements = driver.find_elements(By.TAG_NAME, 'li')\n",
    "    for element in elements:\n",
    "        job_requirements.append(element.text)\n",
    "\n",
    "    driver.quit()\n",
    "    return job_requirements\n",
    "\n",
    "for requirement in job_requirements:\n",
    "    print(requirement)"
   ]
  },
  {
   "cell_type": "code",
   "execution_count": null,
   "id": "4f028009-9c8d-4ed1-ac44-2063e2e5d4d5",
   "metadata": {},
   "outputs": [],
   "source": []
  },
  {
   "cell_type": "code",
   "execution_count": null,
   "id": "1f24dbcc-98c6-45cb-b62b-3b8d351e8e4e",
   "metadata": {},
   "outputs": [],
   "source": []
  }
 ],
 "metadata": {
  "kernelspec": {
   "display_name": "Python 3 (ipykernel)",
   "language": "python",
   "name": "python3"
  },
  "language_info": {
   "codemirror_mode": {
    "name": "ipython",
    "version": 3
   },
   "file_extension": ".py",
   "mimetype": "text/x-python",
   "name": "python",
   "nbconvert_exporter": "python",
   "pygments_lexer": "ipython3",
   "version": "3.11.4"
  }
 },
 "nbformat": 4,
 "nbformat_minor": 5
}
